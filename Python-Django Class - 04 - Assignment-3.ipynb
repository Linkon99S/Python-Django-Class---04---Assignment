{
 "cells": [
  {
   "cell_type": "markdown",
   "id": "cbc65e69",
   "metadata": {},
   "source": [
    "# Class – 04 -Assignment"
   ]
  },
  {
   "cell_type": "markdown",
   "id": "aad65afb",
   "metadata": {},
   "source": [
    "1. A = { 55, 6, 8, 9, 11} , B = {44, 55, 89,54} apply set union."
   ]
  },
  {
   "cell_type": "code",
   "execution_count": 1,
   "id": "60caada1",
   "metadata": {},
   "outputs": [
    {
     "name": "stdout",
     "output_type": "stream",
     "text": [
      "{6, 8, 9, 11, 44, 54, 55, 89}\n"
     ]
    }
   ],
   "source": [
    "A = { 55, 6, 8, 9, 11}\n",
    "B = {44, 55, 89,54}\n",
    "\n",
    "z = A.union(B)\n",
    "\n",
    "print(z)"
   ]
  },
  {
   "cell_type": "markdown",
   "id": "b540250e",
   "metadata": {},
   "source": [
    "2. Which data type not allow duplicate item. Give an example."
   ]
  },
  {
   "cell_type": "code",
   "execution_count": 5,
   "id": "2b82dc74",
   "metadata": {},
   "outputs": [
    {
     "name": "stdout",
     "output_type": "stream",
     "text": [
      "The original list is :  [1, 5, 3, 6, 3, 5, 6, 1]\n",
      "The list after removing duplicates :  [1, 3, 5, 6]\n"
     ]
    }
   ],
   "source": [
    "test_list = [1, 5, 3, 6, 3, 5, 6, 1]\n",
    "print (\"The original list is : \",test_list)\n",
    "\n",
    "# using set() to remove duplicated from list\n",
    "test_list = list(set(test_list))\n",
    "\n",
    "# printing list after removal\n",
    "print (\"The list after removing duplicates : \",test_list)"
   ]
  },
  {
   "cell_type": "markdown",
   "id": "9da2f6ee",
   "metadata": {},
   "source": [
    "3. B={‘Django’: 16, ‘Project’: 8, ‘Students’: 20} print keys."
   ]
  },
  {
   "cell_type": "markdown",
   "id": "10ccac0d",
   "metadata": {},
   "source": [
    "B={'Django': 16, 'Project': 8, 'Students': 20} \n",
    "print(B.keys())"
   ]
  },
  {
   "cell_type": "markdown",
   "id": "51eab1cf",
   "metadata": {},
   "source": [
    "4. Create a function & call the function."
   ]
  },
  {
   "cell_type": "code",
   "execution_count": 15,
   "id": "7db4f315",
   "metadata": {},
   "outputs": [
    {
     "name": "stdout",
     "output_type": "stream",
     "text": [
      "The addition of 5 and 15 results 20.\n"
     ]
    }
   ],
   "source": [
    "def add(num1: int, num2: int):\n",
    "    num3 = num1 + num2\n",
    "    return num3\n",
    "\n",
    "num1, num2 = 5, 15\n",
    "ans = add(num1, num2)\n",
    "print(f\"The addition of {num1} and {num2} results {ans}.\")\n"
   ]
  },
  {
   "cell_type": "markdown",
   "id": "47a622d8",
   "metadata": {},
   "source": [
    "5. Create Class & Object."
   ]
  },
  {
   "cell_type": "code",
   "execution_count": 11,
   "id": "1ae53e9f",
   "metadata": {},
   "outputs": [
    {
     "name": "stdout",
     "output_type": "stream",
     "text": [
      "Shahadat Hossain\n",
      "I'm a Shahadat Hossain\n",
      "I'm a Linkon\n"
     ]
    }
   ],
   "source": [
    "class Name:\n",
    "    A = \"Shahadat Hossain\"\n",
    "    B = \"Linkon\"\n",
    "\n",
    "\n",
    "    def fun(self):\n",
    "        print(\"I'm a\", self.A)\n",
    "        print(\"I'm a\", self.B)\n",
    "\n",
    "Rodger = Name()\n",
    "\n",
    "print(Rodger.A)\n",
    "Rodger.fun()\n"
   ]
  },
  {
   "cell_type": "markdown",
   "id": "d3db2012",
   "metadata": {},
   "source": [
    "6. Give an example of Inheritance."
   ]
  },
  {
   "cell_type": "code",
   "execution_count": 20,
   "id": "b1071d8a",
   "metadata": {},
   "outputs": [
    {
     "name": "stdout",
     "output_type": "stream",
     "text": [
      "I can eat\n",
      "My name is Linkon\n"
     ]
    }
   ],
   "source": [
    "class Name:\n",
    "    name = \"\"\n",
    "    \n",
    "    def eat(self):\n",
    "        print(\"I can eat\")\n",
    "\n",
    "class T(Name):\n",
    "\n",
    "    def display(self):\n",
    "        print(\"My name is\", self.name)\n",
    "\n",
    "x = T()\n",
    "\n",
    "x.name = \"Linkon\"\n",
    "x.eat()\n",
    "\n",
    "x.display()"
   ]
  },
  {
   "cell_type": "code",
   "execution_count": null,
   "id": "584228c3",
   "metadata": {},
   "outputs": [],
   "source": []
  }
 ],
 "metadata": {
  "kernelspec": {
   "display_name": "Python 3 (ipykernel)",
   "language": "python",
   "name": "python3"
  },
  "language_info": {
   "codemirror_mode": {
    "name": "ipython",
    "version": 3
   },
   "file_extension": ".py",
   "mimetype": "text/x-python",
   "name": "python",
   "nbconvert_exporter": "python",
   "pygments_lexer": "ipython3",
   "version": "3.9.13"
  }
 },
 "nbformat": 4,
 "nbformat_minor": 5
}
